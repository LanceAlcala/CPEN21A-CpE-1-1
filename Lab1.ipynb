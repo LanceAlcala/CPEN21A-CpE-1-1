{
  "nbformat": 4,
  "nbformat_minor": 0,
  "metadata": {
    "colab": {
      "name": "Lab1.ipynb",
      "provenance": [],
      "collapsed_sections": [],
      "authorship_tag": "ABX9TyOqsym6bsTkosyxmaxMHWEW",
      "include_colab_link": true
    },
    "kernelspec": {
      "name": "python3",
      "display_name": "Python 3"
    },
    "language_info": {
      "name": "python"
    }
  },
  "cells": [
    {
      "cell_type": "markdown",
      "metadata": {
        "id": "view-in-github",
        "colab_type": "text"
      },
      "source": [
        "<a href=\"https://colab.research.google.com/github/LanceAlcala/CPEN21A-CpE-1-1/blob/main/Lab1.ipynb\" target=\"_parent\"><img src=\"https://colab.research.google.com/assets/colab-badge.svg\" alt=\"Open In Colab\"/></a>"
      ]
    },
    {
      "cell_type": "markdown",
      "metadata": {
        "id": "8kKfvI0-Xg4T"
      },
      "source": [
        "#Laboratory 1\n"
      ]
    },
    {
      "cell_type": "code",
      "metadata": {
        "colab": {
          "base_uri": "https://localhost:8080/"
        },
        "id": "N4vRwAsWUlz1",
        "outputId": "a909a1c3-fc86-473a-dc6f-8d1de494c0e8"
      },
      "source": [
        "print ('Welcome to Python Programming')\n",
        "x = \"Lance Wesley B. Alcala\"\n",
        "y = \"Blk 30 L 42 South Square Village, Pasong Kawayan 2, Gen. Trias, Cavite\"\n",
        "z = \"18 Years old\"\n",
        "print ('My name is '+x+', '+z+ ', from '+y)"
      ],
      "execution_count": 24,
      "outputs": [
        {
          "output_type": "stream",
          "name": "stdout",
          "text": [
            "Welcome to Python Programming\n",
            "My name is Lance Wesley B. Alcala, 18 Years old, from Blk 30 L 42 South Square Village, Pasong Kawayan 2, Gen. Trias, Cavite\n"
          ]
        }
      ]
    }
  ]
}