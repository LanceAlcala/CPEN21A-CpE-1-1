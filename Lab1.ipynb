{
  "nbformat": 4,
  "nbformat_minor": 0,
  "metadata": {
    "colab": {
      "name": "Lab1.ipynb",
      "provenance": [],
      "authorship_tag": "ABX9TyO+Pbw8bd0FtQ5dniS746h3",
      "include_colab_link": true
    },
    "kernelspec": {
      "name": "python3",
      "display_name": "Python 3"
    },
    "language_info": {
      "name": "python"
    }
  },
  "cells": [
    {
      "cell_type": "markdown",
      "metadata": {
        "id": "view-in-github",
        "colab_type": "text"
      },
      "source": [
        "<a href=\"https://colab.research.google.com/github/LanceAlcala/CPEN21A-BSCpE-1-1-ALCALA/blob/main/Lab1.ipynb\" target=\"_parent\"><img src=\"https://colab.research.google.com/assets/colab-badge.svg\" alt=\"Open In Colab\"/></a>"
      ]
    },
    {
      "cell_type": "markdown",
      "metadata": {
        "id": "8kKfvI0-Xg4T"
      },
      "source": [
        "#Laboratory 1\n"
      ]
    },
    {
      "cell_type": "code",
      "metadata": {
        "colab": {
          "base_uri": "https://localhost:8080/"
        },
        "id": "N4vRwAsWUlz1",
        "outputId": "6b6d16ae-9f02-45f1-c95d-885b883364f9"
      },
      "source": [
        "print ('Welcome to Python Programming')\n",
        "x = \"Lance Wesley B. Alcala\"\n",
        "y = \"Blk 30 L 42 South Square Village, Pasong Kawayan 2, Gen. Trias, Cavite\"\n",
        "z = \"18 Years old\"\n",
        "print ('Name: '+x)\n",
        "print ('Address: '+y)\n",
        "print ('Age: '+z)"
      ],
      "execution_count": 20,
      "outputs": [
        {
          "output_type": "stream",
          "name": "stdout",
          "text": [
            "Welcome to Python Programming\n",
            "Name: Lance Wesley B. Alcala\n",
            "Address: Blk 30 L 42 South Square Village, Pasong Kawayan 2, Gen. Trias, Cavite\n",
            "Age: 18 Years old\n"
          ]
        }
      ]
    }
  ]
}