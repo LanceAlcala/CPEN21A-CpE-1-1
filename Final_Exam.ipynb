{
  "nbformat": 4,
  "nbformat_minor": 0,
  "metadata": {
    "colab": {
      "name": "Final Exam.ipynb",
      "provenance": [],
      "authorship_tag": "ABX9TyNmvfBpcmEUkUsd5IxMBgHK",
      "include_colab_link": true
    },
    "kernelspec": {
      "name": "python3",
      "display_name": "Python 3"
    },
    "language_info": {
      "name": "python"
    }
  },
  "cells": [
    {
      "cell_type": "markdown",
      "metadata": {
        "id": "view-in-github",
        "colab_type": "text"
      },
      "source": [
        "<a href=\"https://colab.research.google.com/github/LanceAlcala/CPEN21A-CpE-1-1/blob/main/Final_Exam.ipynb\" target=\"_parent\"><img src=\"https://colab.research.google.com/assets/colab-badge.svg\" alt=\"Open In Colab\"/></a>"
      ]
    },
    {
      "cell_type": "markdown",
      "source": [
        "#Final Exam"
      ],
      "metadata": {
        "id": "ABl85ldo2Voj"
      }
    },
    {
      "cell_type": "markdown",
      "source": [
        "###Problem Statement 1\n",
        "Create a Python program that will produce an output of sum of 10 numbers less than 5\n",
        "using FOR LOOP statement. (30 points)"
      ],
      "metadata": {
        "id": "gcYfHp84lQmf"
      }
    },
    {
      "cell_type": "code",
      "source": [
        "y = 0\n",
        "number = [4,3,2,1,0,-1,-2,-3,-4,-5]\n",
        "for x in number:\n",
        "  x = y + x\n",
        "print(x)"
      ],
      "metadata": {
        "colab": {
          "base_uri": "https://localhost:8080/"
        },
        "id": "XWjhFIIxlWtX",
        "outputId": "5ee18624-1ee4-4fca-e854-d81e6f124f78"
      },
      "execution_count": 68,
      "outputs": [
        {
          "output_type": "stream",
          "name": "stdout",
          "text": [
            "-5\n"
          ]
        }
      ]
    },
    {
      "cell_type": "markdown",
      "source": [
        "###Problem Statement 2\n",
        "Create a Python program that will produce accept five numbers and determine the sum of\n",
        "first and last number among the five numbers entered using WHILE LOOP (35 points)"
      ],
      "metadata": {
        "id": "J4Zf2stolakv"
      }
    },
    {
      "cell_type": "code",
      "source": [
        "x = float(input(\"Enter a number: \"))\n",
        "while (number!=0):\n",
        "  a = float(input(\"Enter a number: \"))\n",
        "  b = float(input(\"Enter a number: \"))\n",
        "  c = float(input(\"Enter a number: \"))\n",
        "  d = float(input(\"Enter a number: \"))\n",
        "  y = x + d\n",
        "  print('The sum of the first and last number is:',y)\n",
        "  break"
      ],
      "metadata": {
        "id": "hdPmNG-UldcW",
        "colab": {
          "base_uri": "https://localhost:8080/"
        },
        "outputId": "cbe914b7-82fa-4ff0-cc10-fd67e0aeed72"
      },
      "execution_count": 116,
      "outputs": [
        {
          "output_type": "stream",
          "name": "stdout",
          "text": [
            "Enter a number: 41.6\n",
            "Enter a number: 123.1\n",
            "Enter a number: 134\n",
            "Enter a number: 53\n",
            "Enter a number: 0.4\n",
            "The sum of the first and last number is: 42.0\n"
          ]
        }
      ]
    },
    {
      "cell_type": "code",
      "source": [
        "#Using \"list\" and \"while\" functions\n",
        "x = []\n",
        "while len(x) is not 5:\n",
        "  if len(x)>0:\n",
        "   print(\"Enter another number\")\n",
        "  z = float(input(\"Enter a number: \"))\n",
        "  x.append(z)\n",
        "\n",
        "y = x[0] + x[4]\n",
        "print('The sum of the first and last number is:',y)"
      ],
      "metadata": {
        "colab": {
          "base_uri": "https://localhost:8080/"
        },
        "id": "1zY2mkXX8HSQ",
        "outputId": "a48cd824-26a8-4e1a-96e3-fe917628a094"
      },
      "execution_count": 110,
      "outputs": [
        {
          "output_type": "stream",
          "name": "stdout",
          "text": [
            "Enter a number: 1.1\n",
            "Enter another number\n",
            "Enter a number: 2\n",
            "Enter another number\n",
            "Enter a number: 3\n",
            "Enter another number\n",
            "Enter a number: 4\n",
            "Enter another number\n",
            "Enter a number: 5.8\n",
            "The sum of the first and last number is: 6.9\n"
          ]
        }
      ]
    },
    {
      "cell_type": "markdown",
      "source": [
        "###Problem Statement 3\n",
        "Create a Python program to calculate student grades. It accepts a numerical grade as input\n",
        "and it will display the character grade as output based on the given scale: (Use Nested-IF-Else\n",
        "statement) (35 points)"
      ],
      "metadata": {
        "id": "8T035rHoleHX"
      }
    },
    {
      "cell_type": "code",
      "source": [
        "grade = float(input(\"Numerical Grade: \"))\n",
        "if grade>=90:\n",
        "  print(\"Character Grade: A\")\n",
        "elif grade>=80:\n",
        "  print (\"Character Grade: B\")\n",
        "elif grade>=70:\n",
        "  print (\"Character Grade: C\")\n",
        "elif grade>=60:\n",
        "  print (\"Character Grade: D\")\n",
        "else:\n",
        "  print(\"Character Grade: F\")"
      ],
      "metadata": {
        "colab": {
          "base_uri": "https://localhost:8080/"
        },
        "id": "u8Yj-TQzlhb0",
        "outputId": "dc9a33b3-0b80-49fd-f2bc-6dad64192e4c"
      },
      "execution_count": 96,
      "outputs": [
        {
          "output_type": "stream",
          "name": "stdout",
          "text": [
            "Numerical Grade: 79\n",
            "Character Grade: C\n"
          ]
        }
      ]
    },
    {
      "cell_type": "code",
      "source": [
        "# If \"elif\" is not allowed:\n",
        "grade = float(input(\"Numerical Grade: \"))\n",
        "if grade >=90:\n",
        "  print('Character Grade: A')\n",
        "else:\n",
        "  if grade <90 and grade >=80:\n",
        "    print('Character Grade: B')\n",
        "  else:\n",
        "    if grade <80 and grade >=70:\n",
        "      print('Character Grade: C')\n",
        "    else:\n",
        "      if grade <70 and grade >=60:\n",
        "        print('Character Grade: D')\n",
        "      else:\n",
        "        print('Character Grade: F')"
      ],
      "metadata": {
        "colab": {
          "base_uri": "https://localhost:8080/"
        },
        "id": "6U81xm1HyWkd",
        "outputId": "7072890b-ac9f-4eab-c2e2-62f7c2c19f6f"
      },
      "execution_count": 97,
      "outputs": [
        {
          "output_type": "stream",
          "name": "stdout",
          "text": [
            "Numerical Grade: 85\n",
            "Character Grade: B\n"
          ]
        }
      ]
    }
  ]
}