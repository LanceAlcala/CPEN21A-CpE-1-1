{
  "nbformat": 4,
  "nbformat_minor": 0,
  "metadata": {
    "colab": {
      "name": "demo1.ipynb",
      "provenance": [],
      "authorship_tag": "ABX9TyNLsEP2vOVY16JQWQ5IPukf",
      "include_colab_link": true
    },
    "kernelspec": {
      "name": "python3",
      "display_name": "Python 3"
    },
    "language_info": {
      "name": "python"
    }
  },
  "cells": [
    {
      "cell_type": "markdown",
      "metadata": {
        "id": "view-in-github",
        "colab_type": "text"
      },
      "source": [
        "<a href=\"https://colab.research.google.com/github/LanceAlcala/CPEN21A-BSCpE-1-1-ALCALA/blob/main/demo1.ipynb\" target=\"_parent\"><img src=\"https://colab.research.google.com/assets/colab-badge.svg\" alt=\"Open In Colab\"/></a>"
      ]
    },
    {
      "cell_type": "code",
      "metadata": {
        "colab": {
          "base_uri": "https://localhost:8080/"
        },
        "id": "bqQvQ0prazCl",
        "outputId": "a7d23807-8fae-4b3b-f09d-2f83b502a4a7"
      },
      "source": [
        "#Introduction\n",
        "#demo1\n",
        "A = \"Sally pero malaki\"\n",
        "a = 'Sally pero single'\n",
        "b = \"Sally\"\n",
        "print(A)\n",
        "print(a)\n",
        "print(b)\n",
        "print(type(b))"
      ],
      "execution_count": 1,
      "outputs": [
        {
          "output_type": "stream",
          "name": "stdout",
          "text": [
            "Sally pero malaki\n",
            "Sally pero single\n",
            "Sally\n",
            "<class 'str'>\n"
          ]
        }
      ]
    },
    {
      "cell_type": "code",
      "metadata": {
        "colab": {
          "base_uri": "https://localhost:8080/"
        },
        "id": "M8hkuJHvh5mV",
        "outputId": "6e222602-641c-46da-c304-3e2bb4ae408b"
      },
      "source": [
        "a, b, c, = \"apple\", \"boy\", \"cat\"\n",
        "d, e = 1, 2\n",
        "print(a, b, c, d, e)\n",
        "print(type(a))\n",
        "print(type(d))"
      ],
      "execution_count": 2,
      "outputs": [
        {
          "output_type": "stream",
          "name": "stdout",
          "text": [
            "apple boy cat 1 2\n",
            "<class 'str'>\n",
            "<class 'int'>\n"
          ]
        }
      ]
    },
    {
      "cell_type": "code",
      "metadata": {
        "colab": {
          "base_uri": "https://localhost:8080/"
        },
        "id": "44GL6Y9Oh-vt",
        "outputId": "6d6d3d66-a235-46b5-f8f2-bd08d9c04fd8"
      },
      "source": [
        "a = float(4)\n",
        "b = int(4)\n",
        "c = 4.5\n",
        "print(a, b)\n",
        "print(type(c))"
      ],
      "execution_count": 3,
      "outputs": [
        {
          "output_type": "stream",
          "name": "stdout",
          "text": [
            "4.0 4\n",
            "<class 'float'>\n"
          ]
        }
      ]
    },
    {
      "cell_type": "code",
      "metadata": {
        "colab": {
          "base_uri": "https://localhost:8080/"
        },
        "id": "U1RUvXoZiBGF",
        "outputId": "d65f72ad-3798-4dcb-ece0-c716681f5ad3"
      },
      "source": [
        "x = y = z = \"three last letter\"\n",
        "print(z)\n",
        "print(y)\n",
        "print(x)"
      ],
      "execution_count": 4,
      "outputs": [
        {
          "output_type": "stream",
          "name": "stdout",
          "text": [
            "three last letter\n",
            "three last letter\n",
            "three last letter\n"
          ]
        }
      ]
    },
    {
      "cell_type": "code",
      "metadata": {
        "colab": {
          "base_uri": "https://localhost:8080/"
        },
        "id": "urp1kDp9iD_O",
        "outputId": "22b0f7d0-dad8-4fc3-bd75-4ca4ac6668b6"
      },
      "source": [
        "x = \"ok lang\"\n",
        "print('python programming is ' + x)"
      ],
      "execution_count": 5,
      "outputs": [
        {
          "output_type": "stream",
          "name": "stdout",
          "text": [
            "python programming is ok lang\n"
          ]
        }
      ]
    },
    {
      "cell_type": "code",
      "metadata": {
        "colab": {
          "base_uri": "https://localhost:8080/"
        },
        "id": "U0mXfZgviJ4U",
        "outputId": "3c4092a5-f745-4390-fc28-5c6d36cda82c"
      },
      "source": [
        "x = 1\n",
        "y = 2\n",
        "print(x+y)\n",
        "print(x-y)\n",
        "print(x*y)\n",
        "print(x/y)\n",
        "x<y and x==y #example of program using logical operator"
      ],
      "execution_count": 6,
      "outputs": [
        {
          "output_type": "stream",
          "name": "stdout",
          "text": [
            "3\n",
            "-1\n",
            "2\n",
            "0.5\n"
          ]
        },
        {
          "output_type": "execute_result",
          "data": {
            "text/plain": [
              "False"
            ]
          },
          "metadata": {},
          "execution_count": 6
        }
      ]
    }
  ]
}