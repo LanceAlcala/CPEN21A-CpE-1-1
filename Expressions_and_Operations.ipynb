{
  "nbformat": 4,
  "nbformat_minor": 0,
  "metadata": {
    "colab": {
      "name": "Expressions and Operations.ipynb",
      "provenance": [],
      "authorship_tag": "ABX9TyPFbYfX9S1DmkaQErt0IdKB",
      "include_colab_link": true
    },
    "kernelspec": {
      "name": "python3",
      "display_name": "Python 3"
    },
    "language_info": {
      "name": "python"
    }
  },
  "cells": [
    {
      "cell_type": "markdown",
      "metadata": {
        "id": "view-in-github",
        "colab_type": "text"
      },
      "source": [
        "<a href=\"https://colab.research.google.com/github/LanceAlcala/CPEN21A-CpE-1-1/blob/main/Expressions_and_Operations.ipynb\" target=\"_parent\"><img src=\"https://colab.research.google.com/assets/colab-badge.svg\" alt=\"Open In Colab\"/></a>"
      ]
    },
    {
      "cell_type": "code",
      "metadata": {
        "colab": {
          "base_uri": "https://localhost:8080/"
        },
        "id": "wCPXh5n1cVme",
        "outputId": "ef75b0d1-4c0a-44aa-c2bb-33cfe5fee360"
      },
      "source": [
        "#Operations and Expressions in Python\n",
        "\n",
        "#Boolean Operators\n",
        "#Booleans represent one of two values: True or False\n",
        "\n",
        "print(10 > 9)         # 10 is greater than 9 so TRUE\n",
        "print(10 == 9)        # 10 is NOT equal to 9 so FALSE (\"==\" means equality, used for comparing)\n",
        "print(10 < 9)         # 10 is NOT less than 9 so FALSE\n",
        "print(10 != 9)"
      ],
      "execution_count": 25,
      "outputs": [
        {
          "output_type": "stream",
          "name": "stdout",
          "text": [
            "True\n",
            "False\n",
            "False\n",
            "True\n"
          ]
        }
      ]
    },
    {
      "cell_type": "code",
      "metadata": {
        "colab": {
          "base_uri": "https://localhost:8080/"
        },
        "id": "MmPwqtbPghlv",
        "outputId": "c606820c-6e93-4840-abf7-24ee164086db"
      },
      "source": [
        "#Boolean Function\n",
        "#Evaluate value and give you either TRUE or Flase in return\n",
        "\n",
        "print(bool(True))\n",
        "print(bool(False))\n",
        "print(bool(1))\n",
        "print(bool(0))\n",
        "print(bool([]))           #Empty cell\n",
        "print(bool(None))\n",
        "print(bool(\"Hello\"))"
      ],
      "execution_count": 14,
      "outputs": [
        {
          "output_type": "stream",
          "name": "stdout",
          "text": [
            "True\n",
            "False\n",
            "True\n",
            "False\n",
            "False\n",
            "False\n",
            "True\n"
          ]
        }
      ]
    },
    {
      "cell_type": "code",
      "metadata": {
        "colab": {
          "base_uri": "https://localhost:8080/"
        },
        "id": "Ws9oaK-AhBfd",
        "outputId": "c03a7a5b-299b-4232-fffe-2e6af0956cbf"
      },
      "source": [
        "#Functions can Return a Boolean\n",
        "\n",
        "def myFunction():           #myFunction can be change to anything you like\n",
        "  return True               #return can either be True or False\n",
        "print(myFunction())\n",
        "\n",
        "def Goodmorning():\n",
        "  return False\n",
        "print(Goodmorning())"
      ],
      "execution_count": 20,
      "outputs": [
        {
          "output_type": "stream",
          "name": "stdout",
          "text": [
            "True\n",
            "True\n"
          ]
        }
      ]
    },
    {
      "cell_type": "code",
      "metadata": {
        "colab": {
          "base_uri": "https://localhost:8080/"
        },
        "id": "Ygv-QZjFiZPa",
        "outputId": "45bb6743-d87d-4be3-dab4-7587ff796514"
      },
      "source": [
        "#Boolean answer of a function\n",
        "\n",
        "def myFunction(): return True\n",
        "\n",
        "if myFunction():\n",
        "  print(\"Yes\")\n",
        "else:\n",
        "  print(\"No\")"
      ],
      "execution_count": 27,
      "outputs": [
        {
          "output_type": "stream",
          "name": "stdout",
          "text": [
            "Yes\n"
          ]
        }
      ]
    },
    {
      "cell_type": "code",
      "metadata": {
        "colab": {
          "base_uri": "https://localhost:8080/"
        },
        "id": "e1JzlEjXiy_v",
        "outputId": "006016ae-8f73-4238-fb1e-c41bdd45157d"
      },
      "source": [
        "print(10>9)\n",
        "\n",
        "a=6\n",
        "b=7\n",
        "print(a==b)\n",
        "print(a!=a)\n",
        "print(a>b)\n",
        "print(b>a)"
      ],
      "execution_count": 28,
      "outputs": [
        {
          "output_type": "stream",
          "name": "stdout",
          "text": [
            "True\n",
            "False\n",
            "False\n",
            "False\n",
            "True\n"
          ]
        }
      ]
    },
    {
      "cell_type": "code",
      "metadata": {
        "colab": {
          "base_uri": "https://localhost:8080/"
        },
        "id": "fJxD46t5jr1t",
        "outputId": "2ef66d35-94b9-4c78-cdd9-3dcc89ad878a"
      },
      "source": [
        "#Python Operators\n",
        "\n",
        "print(11+11)\n",
        "print(28-8)\n",
        "print(2*4)\n",
        "print(4/2)          #with decimal point\n",
        "print(4//2)         #whole nummber \"//\" is called floor division\n",
        "print(3//2)         #will not show the decimal\n",
        "print(3/2)\n",
        "print(4%3)          #This is modulo, it gives you the remainder\n",
        "print(2**3)         #concatenation or basically exponent"
      ],
      "execution_count": 37,
      "outputs": [
        {
          "output_type": "stream",
          "name": "stdout",
          "text": [
            "22\n",
            "20\n",
            "8\n",
            "2.0\n",
            "2\n",
            "1\n",
            "1.5\n",
            "1\n",
            "8\n"
          ]
        }
      ]
    },
    {
      "cell_type": "code",
      "metadata": {
        "colab": {
          "base_uri": "https://localhost:8080/"
        },
        "id": "hPSUj9HQk338",
        "outputId": "fc5ba283-2651-44ba-e42e-629a647bdd00"
      },
      "source": [
        "#Python Bitwise Operators\n",
        "\n",
        "#In Sci-Cal, press \"mode\" then BASE-N (CONVERTING BINARY TO DECIMAL AND VICE VERSA)\n",
        "\n",
        "A = 60 #0011 1100\n",
        "B = 13 #\n",
        "print(A&B)    #Binary AND (1-0 is 0, 0-1 is 0, 0-0 is 0, 1-1 is 1)\n",
        "print(A|B)    #Binary OR\n",
        "print(A<<1)   #Binary Left Shift (0011 1100 becomes 0111 1000) the shifting depends on the number\n",
        "print(A>>1)   #Binary Right Shift (0011 1100 becomes 0001 1110)"
      ],
      "execution_count": 50,
      "outputs": [
        {
          "output_type": "stream",
          "name": "stdout",
          "text": [
            "12\n",
            "61\n",
            "120\n",
            "30\n"
          ]
        }
      ]
    },
    {
      "cell_type": "code",
      "metadata": {
        "colab": {
          "base_uri": "https://localhost:8080/"
        },
        "id": "M3x77TI9oRXL",
        "outputId": "19ba1c98-ae51-40f4-f78e-dcad3ef93049"
      },
      "source": [
        "#Python Assignment Operators\n",
        "\n",
        "A = 2\n",
        "A+=2 #same as A = A + 2\n",
        "print(A)"
      ],
      "execution_count": 57,
      "outputs": [
        {
          "output_type": "stream",
          "name": "stdout",
          "text": [
            "4\n"
          ]
        }
      ]
    },
    {
      "cell_type": "code",
      "metadata": {
        "colab": {
          "base_uri": "https://localhost:8080/"
        },
        "id": "ZB9cvLqdqZ8i",
        "outputId": "1bf2781b-4a22-4d3a-d4e7-c6b0936bdca0"
      },
      "source": [
        "#Logical Operators\n",
        "\n",
        "a = 60\n",
        "b = 13\n",
        "print(a and b)\n",
        "print((a>b) and (a<b))\n",
        "print((a>b) or (a<b))\n",
        "print(not(a>b))"
      ],
      "execution_count": 77,
      "outputs": [
        {
          "output_type": "stream",
          "name": "stdout",
          "text": [
            "13\n",
            "False\n",
            "True\n",
            "False\n"
          ]
        }
      ]
    },
    {
      "cell_type": "code",
      "metadata": {
        "colab": {
          "base_uri": "https://localhost:8080/"
        },
        "id": "4-N0s19vsvMQ",
        "outputId": "6441ebeb-de2b-4263-830d-1a93aa68fe66"
      },
      "source": [
        "#Identity Operators\n",
        "a = 60\n",
        "b = 13\n",
        "A = 60\n",
        "B = 60\n",
        "print(a is b)\n",
        "print(A is B)\n",
        "print(a is not b)\n",
        "print(A is not B)"
      ],
      "execution_count": 84,
      "outputs": [
        {
          "output_type": "stream",
          "name": "stdout",
          "text": [
            "False\n",
            "True\n",
            "True\n",
            "False\n"
          ]
        }
      ]
    }
  ]
}