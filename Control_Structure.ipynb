{
  "nbformat": 4,
  "nbformat_minor": 0,
  "metadata": {
    "colab": {
      "name": "Control Structure.ipynb",
      "provenance": [],
      "authorship_tag": "ABX9TyO7bB1r9Zu9BXIqoxiv44St",
      "include_colab_link": true
    },
    "kernelspec": {
      "name": "python3",
      "display_name": "Python 3"
    },
    "language_info": {
      "name": "python"
    }
  },
  "cells": [
    {
      "cell_type": "markdown",
      "metadata": {
        "id": "view-in-github",
        "colab_type": "text"
      },
      "source": [
        "<a href=\"https://colab.research.google.com/github/LanceAlcala/CPEN21A-CpE-1-1/blob/main/Control_Structure.ipynb\" target=\"_parent\"><img src=\"https://colab.research.google.com/assets/colab-badge.svg\" alt=\"Open In Colab\"/></a>"
      ]
    },
    {
      "cell_type": "markdown",
      "metadata": {
        "id": "n_ZWQkCxlWHU"
      },
      "source": [
        "#if statement\n"
      ]
    },
    {
      "cell_type": "code",
      "metadata": {
        "colab": {
          "base_uri": "https://localhost:8080/"
        },
        "id": "kq__O2JinM_i",
        "outputId": "e3b822f7-d516-424b-ba32-9b2736396398"
      },
      "source": [
        "a = 12\n",
        "b = 100\n",
        "if b > a:\n",
        "  print('b is greater than a')    #remember the indention"
      ],
      "execution_count": 3,
      "outputs": [
        {
          "output_type": "stream",
          "name": "stdout",
          "text": [
            "b is greater than a\n"
          ]
        }
      ]
    },
    {
      "cell_type": "markdown",
      "metadata": {
        "id": "MKhofdwKoXdf"
      },
      "source": [
        "#elif condition"
      ]
    },
    {
      "cell_type": "code",
      "metadata": {
        "colab": {
          "base_uri": "https://localhost:8080/"
        },
        "id": "TIYwDOcZobVe",
        "outputId": "c16b07e7-7c00-47e3-dd0a-a788c24df9aa"
      },
      "source": [
        "a = 12\n",
        "b = 12\n",
        "if b> a:\n",
        "  print('b is greater than a')\n",
        "elif a==b:                      #elif - when if statement is false, it will continue to the next elif\n",
        "  print('a and b are equal')"
      ],
      "execution_count": 5,
      "outputs": [
        {
          "output_type": "stream",
          "name": "stdout",
          "text": [
            "a and b are equal\n"
          ]
        }
      ]
    },
    {
      "cell_type": "markdown",
      "metadata": {
        "id": "lVavX7gtpRwj"
      },
      "source": [
        "#else statement"
      ]
    },
    {
      "cell_type": "code",
      "metadata": {
        "colab": {
          "base_uri": "https://localhost:8080/"
        },
        "id": "OuvcV8a6pVMr",
        "outputId": "da4d87d3-54dc-45ff-845c-0989cbd21084"
      },
      "source": [
        "a = 200\n",
        "b = 33\n",
        "if b>a:\n",
        "  print('b is greater than a')\n",
        "elif a==b:\n",
        "  print('a and b are equal')\n",
        "else:                             #else - when both if and elif statements are false\n",
        "  print('a is greater than b')"
      ],
      "execution_count": 6,
      "outputs": [
        {
          "output_type": "stream",
          "name": "stdout",
          "text": [
            "a is greater than b\n"
          ]
        }
      ]
    },
    {
      "cell_type": "markdown",
      "metadata": {
        "id": "-CRwA8lfqPUl"
      },
      "source": [
        "#short hand if statement"
      ]
    },
    {
      "cell_type": "code",
      "metadata": {
        "colab": {
          "base_uri": "https://localhost:8080/"
        },
        "id": "0Jq6JRW-qTLO",
        "outputId": "1fce9201-4f72-4afa-85a2-22cc7a8d422a"
      },
      "source": [
        "a = 2\n",
        "b = 1\n",
        "\n",
        "if a>b: print('a is greater than b')"
      ],
      "execution_count": 11,
      "outputs": [
        {
          "output_type": "stream",
          "name": "stdout",
          "text": [
            "a is greater than b\n"
          ]
        }
      ]
    },
    {
      "cell_type": "markdown",
      "metadata": {
        "id": "Cg7LgZB3rDwk"
      },
      "source": [
        "#short hand if...else statement"
      ]
    },
    {
      "cell_type": "code",
      "metadata": {
        "colab": {
          "base_uri": "https://localhost:8080/"
        },
        "id": "e6aaI5PMrHuF",
        "outputId": "e9cfae95-afca-4b90-8a15-ce06b46613ab"
      },
      "source": [
        "a = 2 \n",
        "b = 330\n",
        "print('a is greater than b') if a > b else print('b is greater than b')"
      ],
      "execution_count": 9,
      "outputs": [
        {
          "output_type": "stream",
          "name": "stdout",
          "text": [
            "b is greater than b\n"
          ]
        }
      ]
    },
    {
      "cell_type": "markdown",
      "metadata": {
        "id": "WHw77WlAst8-"
      },
      "source": [
        "#or - atleast one condition is True"
      ]
    },
    {
      "cell_type": "code",
      "metadata": {
        "colab": {
          "base_uri": "https://localhost:8080/"
        },
        "id": "pCB-uX56s0Sb",
        "outputId": "d9035267-a996-40c0-cb12-c359c8802312"
      },
      "source": [
        "a = 200\n",
        "b = 33\n",
        "c = 500\n",
        "if a>b or a>c:                      #atleast one statement is true\n",
        "  print('atleast one is True')"
      ],
      "execution_count": 17,
      "outputs": [
        {
          "output_type": "stream",
          "name": "stdout",
          "text": [
            "atleast one is True\n"
          ]
        }
      ]
    },
    {
      "cell_type": "markdown",
      "metadata": {
        "id": "oLmOxr5lsN-B"
      },
      "source": [
        "#and - both conditions are true"
      ]
    },
    {
      "cell_type": "code",
      "metadata": {
        "colab": {
          "base_uri": "https://localhost:8080/"
        },
        "id": "wHStSKPhsWI1",
        "outputId": "2a5b9a18-8cb5-4f99-a4ed-51271f6a5fc8"
      },
      "source": [
        "a = 200\n",
        "b = 33\n",
        "c = 500\n",
        "if a>b and c>a:                       #both statement should be true\n",
        "  print('both conditions are True')"
      ],
      "execution_count": 19,
      "outputs": [
        {
          "output_type": "stream",
          "name": "stdout",
          "text": [
            "both conditions are True\n"
          ]
        }
      ]
    },
    {
      "cell_type": "markdown",
      "metadata": {
        "id": "IgCBD6d_tRUa"
      },
      "source": [
        "#Nested if"
      ]
    },
    {
      "cell_type": "code",
      "metadata": {
        "colab": {
          "base_uri": "https://localhost:8080/"
        },
        "id": "D4tEK7WBwdHp",
        "outputId": "8d74e080-f639-47a9-d7c0-6170b74ca18a"
      },
      "source": [
        "x = 41\n",
        "if x>10:\n",
        "  print('Above ten,')\n",
        "  if x>20:                          #nested if is when another if statement is inside (indent) the other if statement\n",
        "    print('and also above 20!')\n",
        "  else:\n",
        "    print('but not above 20.')"
      ],
      "execution_count": 20,
      "outputs": [
        {
          "output_type": "stream",
          "name": "stdout",
          "text": [
            "Above ten,\n",
            "and also above 20!\n"
          ]
        }
      ]
    },
    {
      "cell_type": "code",
      "metadata": {
        "colab": {
          "base_uri": "https://localhost:8080/"
        },
        "id": "UMjCHgazxeCO",
        "outputId": "e02394eb-42cb-4be2-e027-bed73b5ec985"
      },
      "source": [
        "x = 41\n",
        "if x>10:\n",
        "  print('above 10')\n",
        "  if x>20:\n",
        "    print('above 20')\n",
        "    if x>30:\n",
        "      print('above 30')\n",
        "    else:\n",
        "      print('not above 10')"
      ],
      "execution_count": 21,
      "outputs": [
        {
          "output_type": "stream",
          "name": "stdout",
          "text": [
            "above 10\n",
            "above 20\n",
            "above 30\n"
          ]
        }
      ]
    },
    {
      "cell_type": "markdown",
      "metadata": {
        "id": "2GR-E-ONx7_l"
      },
      "source": [
        "#example 1\n",
        "write a program that determines if the input age is qualified to vote or not. 18 yrs old above is qualifide"
      ]
    },
    {
      "cell_type": "code",
      "metadata": {
        "colab": {
          "base_uri": "https://localhost:8080/"
        },
        "id": "LwqnZPLnyG6A",
        "outputId": "b9243fa4-7999-4e21-883f-fe1b46aaab92"
      },
      "source": [
        "x = int(input(\"Enter your age:\"))\n",
        "\n",
        "if x>=18:\n",
        "  print('qualified to vote')\n",
        "else:\n",
        "  print('not qualified to vote')"
      ],
      "execution_count": 31,
      "outputs": [
        {
          "output_type": "stream",
          "name": "stdout",
          "text": [
            "Enter your age:18\n",
            "qualified to vote\n"
          ]
        }
      ]
    },
    {
      "cell_type": "markdown",
      "metadata": {
        "id": "cGeOPtA8zLpq"
      },
      "source": [
        "#example 2\n",
        "write a program that determines if the input numnber is positive, negative or zero"
      ]
    },
    {
      "cell_type": "code",
      "metadata": {
        "colab": {
          "base_uri": "https://localhost:8080/"
        },
        "id": "kv2gUQKlzSji",
        "outputId": "57a5b65f-d0b5-4e70-a046-9ed15327a105"
      },
      "source": [
        "x = int(input('Enter the number '))\n",
        "\n",
        "if x<0:\n",
        "  print('negative')\n",
        "elif x>0:\n",
        "  print('positive')\n",
        "else:\n",
        "  print('equal to zero')"
      ],
      "execution_count": 35,
      "outputs": [
        {
          "output_type": "stream",
          "name": "stdout",
          "text": [
            "Enter the number 3\n",
            "positive\n"
          ]
        }
      ]
    },
    {
      "cell_type": "markdown",
      "metadata": {
        "id": "qGCCpuOQ0K1O"
      },
      "source": [
        "#example 3\n",
        "write a program to determine if the grades are\n",
        "\n",
        "if: grade > = 75, \"Passed\"\n",
        "grade = 74 \"remedial\"\n",
        "grade < 74 \"failed\""
      ]
    },
    {
      "cell_type": "code",
      "metadata": {
        "colab": {
          "base_uri": "https://localhost:8080/"
        },
        "id": "jy0gMG0_0id8",
        "outputId": "257ad462-61e3-45d7-a80f-48bc3c77c88a"
      },
      "source": [
        "grade = int(input(\"Enter your grade: \"))\n",
        "if grade>=75:\n",
        "  print('Passed')\n",
        "elif grade==74:\n",
        "  print('Remedial')\n",
        "else:\n",
        "  print('Failed')"
      ],
      "execution_count": 41,
      "outputs": [
        {
          "output_type": "stream",
          "name": "stdout",
          "text": [
            "Enter your grade: 90\n",
            "Passed\n"
          ]
        }
      ]
    }
  ]
}